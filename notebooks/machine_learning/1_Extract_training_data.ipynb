{
 "cells": [
  {
   "cell_type": "markdown",
   "id": "184c9541",
   "metadata": {},
   "source": [
    "## Description\n",
    "\n",
    "This notebook will extract training data from the ODC using geometries within a geojson. The dataset will use the NNI level labels within the 'data/nni_training_spain.geojson' file."
   ]
  },
  {
   "cell_type": "code",
   "execution_count": 1,
   "id": "82235194",
   "metadata": {},
   "outputs": [],
   "source": [
    "%matplotlib inline\n",
    "\n",
    "import os\n",
    "import datacube\n",
    "import numpy as np\n",
    "import geopandas as gpd\n",
    "from datacube.utils.geometry import assign_crs\n",
    "\n",
    "import sys\n",
    "sys.path.insert(1, '../')\n",
    "from tools.plotting import map_shapefile\n",
    "from tools.bandindices import calculate_indices\n",
    "from tools.datahandling import mostcommon_crs\n",
    "from tools.classification import collect_training_data\n",
    "\n",
    "import warnings\n",
    "warnings.filterwarnings(\"ignore\")"
   ]
  },
  {
   "cell_type": "code",
   "execution_count": 2,
   "id": "09d6c188",
   "metadata": {},
   "outputs": [],
   "source": [
    "#Connect to the datacube\n",
    "dc = datacube.Datacube(app='Sentinel-2')"
   ]
  },
  {
   "cell_type": "markdown",
   "id": "582bc4a9",
   "metadata": {},
   "source": [
    "## Analisis parameters\n",
    "* path : The path to the input vector file from witch we wil extract training data.\n",
    "* field : This is the name of the columns in your shapefile attribute table that contains the class lables. The class lables must be integers."
   ]
  },
  {
   "cell_type": "code",
   "execution_count": 3,
   "id": "5c70390f",
   "metadata": {},
   "outputs": [],
   "source": [
    "path = 'data/nni_training_egypt.geojson' \n",
    "field = 'class'"
   ]
  },
  {
   "cell_type": "markdown",
   "id": "32d29d8c",
   "metadata": {},
   "source": [
    "## Find the number of CPUs"
   ]
  },
  {
   "cell_type": "code",
   "execution_count": 4,
   "id": "2ae3a873",
   "metadata": {},
   "outputs": [
    {
     "name": "stdout",
     "output_type": "stream",
     "text": [
      "ncpus = 1\n"
     ]
    }
   ],
   "source": [
    "#ncpus=round(get_cpu_quota()) Calculate the number of cpus we set it to 1\n",
    "ncpus = 1\n",
    "print('ncpus = '+str(ncpus))"
   ]
  },
  {
   "cell_type": "markdown",
   "id": "0809a34e",
   "metadata": {},
   "source": [
    "# Preview input data\n",
    "We can load and preview our input data shapefile using geopandas."
   ]
  },
  {
   "cell_type": "code",
   "execution_count": 5,
   "id": "020710b1",
   "metadata": {},
   "outputs": [
    {
     "data": {
      "text/html": [
       "<div>\n",
       "<style scoped>\n",
       "    .dataframe tbody tr th:only-of-type {\n",
       "        vertical-align: middle;\n",
       "    }\n",
       "\n",
       "    .dataframe tbody tr th {\n",
       "        vertical-align: top;\n",
       "    }\n",
       "\n",
       "    .dataframe thead th {\n",
       "        text-align: right;\n",
       "    }\n",
       "</style>\n",
       "<table border=\"1\" class=\"dataframe\">\n",
       "  <thead>\n",
       "    <tr style=\"text-align: right;\">\n",
       "      <th></th>\n",
       "      <th>class</th>\n",
       "      <th>geometry</th>\n",
       "    </tr>\n",
       "  </thead>\n",
       "  <tbody>\n",
       "    <tr>\n",
       "      <th>0</th>\n",
       "      <td>4</td>\n",
       "      <td>POLYGON ((30.71267 30.50485, 30.71085 30.50450...</td>\n",
       "    </tr>\n",
       "    <tr>\n",
       "      <th>1</th>\n",
       "      <td>3</td>\n",
       "      <td>POLYGON ((31.97251 30.45663, 31.97206 30.45661...</td>\n",
       "    </tr>\n",
       "    <tr>\n",
       "      <th>2</th>\n",
       "      <td>3</td>\n",
       "      <td>POLYGON ((31.96894 30.46447, 31.96850 30.46445...</td>\n",
       "    </tr>\n",
       "    <tr>\n",
       "      <th>3</th>\n",
       "      <td>2</td>\n",
       "      <td>POLYGON ((31.92517 30.44214, 31.92481 30.44212...</td>\n",
       "    </tr>\n",
       "    <tr>\n",
       "      <th>4</th>\n",
       "      <td>2</td>\n",
       "      <td>POLYGON ((31.92315 30.45008, 31.92272 30.45006...</td>\n",
       "    </tr>\n",
       "  </tbody>\n",
       "</table>\n",
       "</div>"
      ],
      "text/plain": [
       "   class                                           geometry\n",
       "0      4  POLYGON ((30.71267 30.50485, 30.71085 30.50450...\n",
       "1      3  POLYGON ((31.97251 30.45663, 31.97206 30.45661...\n",
       "2      3  POLYGON ((31.96894 30.46447, 31.96850 30.46445...\n",
       "3      2  POLYGON ((31.92517 30.44214, 31.92481 30.44212...\n",
       "4      2  POLYGON ((31.92315 30.45008, 31.92272 30.45006..."
      ]
     },
     "execution_count": 5,
     "metadata": {},
     "output_type": "execute_result"
    }
   ],
   "source": [
    "# Load input data shapefile\n",
    "input_data = gpd.read_file(path)\n",
    "\n",
    "# Plot first five rows\n",
    "input_data.head()"
   ]
  },
  {
   "cell_type": "code",
   "execution_count": 6,
   "id": "25f86357",
   "metadata": {
    "scrolled": false
   },
   "outputs": [
    {
     "data": {
      "application/vnd.jupyter.widget-view+json": {
       "model_id": "93f110d63600423e8a7b31da56c20e91",
       "version_major": 2,
       "version_minor": 0
      },
      "text/plain": [
       "Label(value='')"
      ]
     },
     "metadata": {},
     "output_type": "display_data"
    },
    {
     "data": {
      "application/vnd.jupyter.widget-view+json": {
       "model_id": "3c2d689c6ef34b19a26a48b994fc9152",
       "version_major": 2,
       "version_minor": 0
      },
      "text/plain": [
       "Map(center=[30.823458212027198, 31.263168430040523], controls=(ZoomControl(options=['position', 'zoom_in_text'…"
      ]
     },
     "metadata": {},
     "output_type": "display_data"
    }
   ],
   "source": [
    "# Plot training data in an interactive map\n",
    "map_shapefile(input_data, attribute=field)"
   ]
  },
  {
   "cell_type": "markdown",
   "id": "e2efe125",
   "metadata": {},
   "source": [
    "# Extracting training data\n",
    "The function collect_training_data takes our geojson containing class labels and extracts training data (features) from the datacube over the locations specified by the input geometries. The function will also pre-process our training data by stacking the arrays into a useful format and removing any NaN or inf values.The below variables can be set within the collect_training_data function:\n",
    "\n",
    "* zonal_stats: An optional string giving the names of zonal statistics to calculate across each polygon (if the geometries in the vector file are polygons and not points). Default is None (all pixel values are returned). Supported values are 'mean', 'median', 'max', and 'min'.\n",
    "\n",
    "In addition to the zonal_stats parameter, we also need to set up a datacube query dictionary for the Open Data Cube query such as measurements (the bands to load from the satellite), the resolution (the cell size), and the output_crs (the output projection). These options will be added to a query dictionary that will be passed into collect_training_data using the parameter collect_training_data(dc_query=query, ...). The query dictionary will be the only argument in the feature layer function which we will define and describe in a moment."
   ]
  },
  {
   "cell_type": "code",
   "execution_count": 7,
   "id": "0a2ee1e2",
   "metadata": {},
   "outputs": [
    {
     "name": "stdout",
     "output_type": "stream",
     "text": [
      "epsg:6933\n"
     ]
    }
   ],
   "source": [
    "#set up our inputs to collect_training_data\n",
    "zonal_stats = 'mean'\n",
    "\n",
    "# Set up the inputs for the ODC query\n",
    "# Create a reusable query\n",
    "query = {\n",
    "    'time': ('2022'),\n",
    "    'resolution': (-20, 20),\n",
    "    'measurements': ['red', 'green', 'red_edge_1', 'red_edge_2', 'red_edge_3', 'nir']\n",
    "}\n",
    "\n",
    "# Identify the most common projection system in the input query\n",
    "output_crs = mostcommon_crs(dc=dc, product='gm_s2_annual', query=query)\n",
    "print(output_crs)\n",
    "\n",
    "query.update({\"output_crs\": output_crs})"
   ]
  },
  {
   "cell_type": "markdown",
   "id": "4a208868",
   "metadata": {},
   "source": [
    "## Defining feature layers\n",
    "To create the desired feature layers, we pass instructions to collect_training_data through the feature_func parameter.\n",
    "\n",
    "feature_func: A function for generating feature layers that is applied to the data within the bounds of the input geometry. The feature_func must accept a dc_query dictionary, and return a single xarray.Dataset or xarray.DataArray containing 2D coordinates (i.e x, y - no time dimension). e.g.\n",
    "\n",
    "    def feature_function(query):\n",
    "        dc = datacube.Datacube(app='feature_layers')\n",
    "        ds = dc.load(**query)\n",
    "        ds = ds.mean('time')\n",
    "        return ds"
   ]
  },
  {
   "cell_type": "code",
   "execution_count": 8,
   "id": "46615272",
   "metadata": {},
   "outputs": [],
   "source": [
    "def feature_layers(dc, query):\n",
    "    #load s2 annual geomedian\n",
    "    ds = dc.load(product='gm_s2_annual',\n",
    "                 **query)\n",
    "    #calculate some band indices\n",
    "    ds = calculate_indices(ds,\n",
    "                           index=['NDVI', 'NDCI', 'IRECI', 'MTCI', 'OTCI', 'MCARI'\n",
    "                                       , 'CI_RedEdge', 'CI_GreenEdge', 'TCARI', 'OSAVI', 'TCARI_OSAVI'],\n",
    "                           drop=True,\n",
    "                           satellite_mission='s2')\n",
    "    \n",
    "    return ds"
   ]
  },
  {
   "cell_type": "markdown",
   "id": "fc6dfcd0",
   "metadata": {},
   "source": [
    "Run the collect_training_data function"
   ]
  },
  {
   "cell_type": "code",
   "execution_count": 9,
   "id": "b1a747e1",
   "metadata": {
    "scrolled": false
   },
   "outputs": [
    {
     "name": "stdout",
     "output_type": "stream",
     "text": [
      "Taking zonal statistic: mean\n",
      "Collecting training data in serial mode\n",
      "Removed 0 rows wth NaNs &/or Infs\n",
      "Output shape:  (402, 12)\n"
     ]
    }
   ],
   "source": [
    "column_names, model_input = collect_training_data(\n",
    "                                    gdf=input_data,\n",
    "                                    dc=dc,\n",
    "                                    dc_query=query,\n",
    "                                    field=field,\n",
    "                                    ncpus = ncpus,\n",
    "                                    zonal_stats=zonal_stats,\n",
    "                                    feature_func=feature_layers\n",
    "                                    )"
   ]
  },
  {
   "cell_type": "code",
   "execution_count": 10,
   "id": "2953f4ad",
   "metadata": {},
   "outputs": [
    {
     "name": "stdout",
     "output_type": "stream",
     "text": [
      "['class', 'NDVI', 'NDCI', 'IRECI', 'MTCI', 'OTCI', 'MCARI', 'CI_RedEdge', 'CI_GreenEdge', 'TCARI', 'OSAVI', 'TCARI_OSAVI']\n",
      "\n",
      "[[4.   0.68 0.3  ... 0.18 0.58 0.31]\n",
      " [3.   0.51 0.19 ... 0.15 0.44 0.34]\n",
      " [3.   0.51 0.18 ... 0.12 0.44 0.28]\n",
      " ...\n",
      " [2.   0.63 0.27 ... 0.13 0.5  0.26]\n",
      " [2.   0.69 0.31 ... 0.16 0.57 0.28]\n",
      " [2.   0.74 0.34 ... 0.16 0.61 0.26]]\n"
     ]
    }
   ],
   "source": [
    "print(column_names)\n",
    "print('')\n",
    "print(np.array_str(model_input, precision=2, suppress_small=True))"
   ]
  },
  {
   "cell_type": "markdown",
   "id": "bfb643bb",
   "metadata": {},
   "source": [
    "## Create traning datasets"
   ]
  },
  {
   "cell_type": "code",
   "execution_count": 11,
   "id": "aa9e3c6e",
   "metadata": {},
   "outputs": [],
   "source": [
    "#set the name and location of the output files\n",
    "output_file = \"results/training_data.csv\"\n",
    "output_file_txt = \"results/training_data.txt\""
   ]
  },
  {
   "cell_type": "code",
   "execution_count": 12,
   "id": "e3568ab9",
   "metadata": {},
   "outputs": [],
   "source": [
    "model_col_indices = [column_names.index(var_name) for var_name in column_names]\n",
    "#Export files to disk\n",
    "np.savetxt(output_file, model_input[:, model_col_indices], header=\", \".join(column_names),delimiter=',', fmt=\"%4f\")"
   ]
  },
  {
   "cell_type": "code",
   "execution_count": 13,
   "id": "e4258373",
   "metadata": {},
   "outputs": [],
   "source": [
    "#grab all columns\n",
    "model_col_indices = [column_names.index(var_name) for var_name in column_names]\n",
    "#Export files to disk\n",
    "np.savetxt(output_file_txt, model_input[:, model_col_indices], header=\" \".join(column_names), fmt=\"%4f\")"
   ]
  }
 ],
 "metadata": {
  "kernelspec": {
   "display_name": "Python 3 (ipykernel)",
   "language": "python",
   "name": "python3"
  },
  "language_info": {
   "codemirror_mode": {
    "name": "ipython",
    "version": 3
   },
   "file_extension": ".py",
   "mimetype": "text/x-python",
   "name": "python",
   "nbconvert_exporter": "python",
   "pygments_lexer": "ipython3",
   "version": "3.8.10"
  }
 },
 "nbformat": 4,
 "nbformat_minor": 5
}
