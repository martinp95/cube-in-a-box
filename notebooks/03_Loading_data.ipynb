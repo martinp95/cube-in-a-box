{
 "cells": [
  {
   "cell_type": "code",
   "execution_count": 1,
   "id": "737f24a8",
   "metadata": {},
   "outputs": [],
   "source": [
    "import datacube\n",
    "from odc.ui import with_ui_cbk"
   ]
  },
  {
   "cell_type": "code",
   "execution_count": 2,
   "id": "4d111620",
   "metadata": {},
   "outputs": [],
   "source": [
    "dc = datacube.Datacube(app='Sentinel_2')"
   ]
  },
  {
   "cell_type": "code",
   "execution_count": 3,
   "id": "8bdda40e",
   "metadata": {},
   "outputs": [
    {
     "name": "stdout",
     "output_type": "stream",
     "text": [
      "<xarray.Dataset>\n",
      "Dimensions:      (latitude: 1, longitude: 1, time: 6)\n",
      "Coordinates:\n",
      "  * time         (time) datetime64[ns] 2022-01-02T07:41:07 ... 2022-01-27T07:...\n",
      "  * latitude     (latitude) float64 -30.0\n",
      "  * longitude    (longitude) float64 30.0\n",
      "    spatial_ref  int32 4258\n",
      "Data variables:\n",
      "    blue         (time, latitude, longitude) uint16 0 0 0 0 0 0\n",
      "    green        (time, latitude, longitude) uint16 0 0 0 0 0 0\n",
      "    red          (time, latitude, longitude) uint16 0 0 0 0 0 0\n",
      "    nir          (time, latitude, longitude) uint16 0 0 0 0 0 0\n",
      "Attributes:\n",
      "    crs:           EPSG:4258\n",
      "    grid_mapping:  spatial_ref\n"
     ]
    }
   ],
   "source": [
    "ds = dc.load(product=\"s2_l2a\",\n",
    "             measurements=['blue','green','red','nir'],\n",
    "             y=(-9, -5),\n",
    "             x=(43.14, 42.56),\n",
    "             time=(\"2022-01-01\", \"2022-01-31\"),\n",
    "             resolution=(-60, 60),\n",
    "             output_crs='EPSG:4258',\n",
    "             group_by=\"solar_day\")\n",
    "\n",
    "print(ds)"
   ]
  }
 ],
 "metadata": {
  "kernelspec": {
   "display_name": "Python 3 (ipykernel)",
   "language": "python",
   "name": "python3"
  },
  "language_info": {
   "codemirror_mode": {
    "name": "ipython",
    "version": 3
   },
   "file_extension": ".py",
   "mimetype": "text/x-python",
   "name": "python",
   "nbconvert_exporter": "python",
   "pygments_lexer": "ipython3",
   "version": "3.8.10"
  }
 },
 "nbformat": 4,
 "nbformat_minor": 5
}
