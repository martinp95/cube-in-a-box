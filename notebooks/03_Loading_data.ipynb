{
 "cells": [
  {
   "cell_type": "markdown",
   "id": "f1c34ce2",
   "metadata": {},
   "source": [
    "## Description\n",
    "This notebook will introduce how to load data from the datacube through the construction of a query and use of the dc.load_ard() function. Topics covered include:\n",
    "\n",
    "* Loading data using dc.load_ard()\n",
    "* Interpreting the resulting xarray.Dataset object\n",
    "* Inspecting an individual xarray.DataArray\n",
    "* Customising parameters passed to the dc.load_ard() function\n",
    "* Loading specific measurements\n",
    "* Loading data for coordinates in a custom coordinate reference system (CRS)\n",
    "* Loading data using a reusable dictionary query\n",
    "* Adding a progress bar to the data load"
   ]
  },
  {
   "cell_type": "code",
   "execution_count": 1,
   "id": "737f24a8",
   "metadata": {},
   "outputs": [],
   "source": [
    "import datacube\n",
    "import sys\n",
    "sys.path.insert(1, '../tools/')\n",
    "from odc.ui import with_ui_cbk\n",
    "from tools.datahandling import load_ard, mostcommon_crs"
   ]
  },
  {
   "cell_type": "code",
   "execution_count": 2,
   "id": "4d111620",
   "metadata": {},
   "outputs": [],
   "source": [
    "dc = datacube.Datacube(app='Sentinel_2')"
   ]
  },
  {
   "cell_type": "code",
   "execution_count": 3,
   "id": "8bdda40e",
   "metadata": {},
   "outputs": [
    {
     "name": "stdout",
     "output_type": "stream",
     "text": [
      "epsg:32636\n"
     ]
    },
    {
     "data": {
      "application/vnd.jupyter.widget-view+json": {
       "model_id": "9317b3a06a974be88c17a5f5a32fc230",
       "version_major": 2,
       "version_minor": 0
      },
      "text/plain": [
       "VBox(children=(HBox(children=(Label(value=''), Label(value='')), layout=Layout(justify_content='space-between'…"
      ]
     },
     "metadata": {},
     "output_type": "display_data"
    },
    {
     "name": "stdout",
     "output_type": "stream",
     "text": [
      "Using pixel quality parameters for Sentinel 2\n",
      "Finding datasets\n",
      "    s2_l2a\n",
      "Counting good quality pixels for each time step\n",
      "Filtering to 4 out of 6 time steps with at least 90.0% good quality pixels\n",
      "Applying pixel quality/cloud mask\n",
      "Loading 4 time steps\n"
     ]
    }
   ],
   "source": [
    "lat, lon = 30.5, 31.7\n",
    "buffer = 0.125\n",
    "\n",
    "# Create a reusable query\n",
    "query = {\n",
    "    'x': (lon-buffer, lon+buffer),\n",
    "    'y': (lat+buffer, lat-buffer),\n",
    "    'time': ('2022-01-01', '2022-01-31'),\n",
    "    'resolution': (-20, 20)\n",
    "}\n",
    "\n",
    "# Identify the most common projection system in the input query\n",
    "output_crs = mostcommon_crs(dc=dc, product='s2_l2a', query=query)\n",
    "print(output_crs)\n",
    "\n",
    "# Load available data from Sentinel-2 and filter to retain only times\n",
    "# with at least 90% good data\n",
    "ds = load_ard(dc=dc, \n",
    "              products=['s2_l2a'],\n",
    "              min_gooddata=0.9, \n",
    "              measurements=['red', 'green', 'blue', 'swir_1', 'swir_2', 'nir', 'nir_2'],\n",
    "              output_crs=output_crs,\n",
    "              progress_cbk=with_ui_cbk(),\n",
    "              **query)"
   ]
  },
  {
   "cell_type": "code",
   "execution_count": 4,
   "id": "cc1567eb",
   "metadata": {
    "scrolled": true
   },
   "outputs": [
    {
     "name": "stdout",
     "output_type": "stream",
     "text": [
      "<xarray.Dataset>\n",
      "Dimensions:      (time: 4, y: 1400, x: 1217)\n",
      "Coordinates:\n",
      "  * time         (time) datetime64[ns] 2022-01-03T08:41:48 ... 2022-01-23T08:...\n",
      "  * y            (y) float64 3.389e+06 3.389e+06 ... 3.361e+06 3.361e+06\n",
      "  * x            (x) float64 3.631e+05 3.631e+05 ... 3.874e+05 3.874e+05\n",
      "    spatial_ref  int32 32636\n",
      "Data variables:\n",
      "    red          (time, y, x) float32 286.0 343.0 401.0 ... 2.43e+03 2.139e+03\n",
      "    green        (time, y, x) float32 823.0 788.0 777.0 ... 1.921e+03 1.636e+03\n",
      "    blue         (time, y, x) float32 403.0 419.0 425.0 ... 1.254e+03 1.063e+03\n",
      "    swir_1       (time, y, x) float32 2.087e+03 1.839e+03 ... 3.189e+03\n",
      "    swir_2       (time, y, x) float32 1.027e+03 910.0 ... 3.536e+03 3.133e+03\n",
      "    nir          (time, y, x) float32 5.526e+03 4.561e+03 ... 2.786e+03\n",
      "    nir_2        (time, y, x) float32 5.517e+03 4.555e+03 ... 2.773e+03\n",
      "Attributes:\n",
      "    crs:           epsg:32636\n",
      "    grid_mapping:  spatial_ref\n"
     ]
    }
   ],
   "source": [
    "print(ds)"
   ]
  },
  {
   "cell_type": "code",
   "execution_count": 5,
   "id": "0e3b7efe",
   "metadata": {},
   "outputs": [
    {
     "name": "stdout",
     "output_type": "stream",
     "text": [
      "<xarray.DataArray 'red' (time: 4, y: 1400, x: 1217)>\n",
      "array([[[ 286.,  343.,  401., ..., 1052.,  725.,  698.],\n",
      "        [ 287.,  369.,  355., ...,  594.,  727.,  697.],\n",
      "        [ 423.,  315.,  351., ...,  629.,  674.,  606.],\n",
      "        ...,\n",
      "        [1848., 2380., 1516., ..., 2461., 2177.,  831.],\n",
      "        [2168., 1773., 1964., ..., 2029., 2296., 1318.],\n",
      "        [2361., 2038., 1904., ..., 2665., 2093., 1803.]],\n",
      "\n",
      "       [[ 174.,  251.,  289., ..., 1063.,  653.,  594.],\n",
      "        [ 197.,  326.,  202., ...,  485.,  657.,  622.],\n",
      "        [ 364.,  221.,  200., ...,  539.,  651.,  519.],\n",
      "        ...,\n",
      "        [1661., 2114., 1383., ..., 2528., 2135.,  708.],\n",
      "        [1973., 1630., 1888., ..., 2097., 2351., 1314.],\n",
      "        [2249., 1989., 1906., ..., 2655., 2150., 1795.]],\n",
      "\n",
      "       [[ 208.,  237.,  286., ..., 1231.,  705.,  572.],\n",
      "        [ 211.,  275.,  194., ...,  431.,  582.,  666.],\n",
      "        [ 344.,  255.,  172., ...,  514.,  605.,  526.],\n",
      "        ...,\n",
      "        [1733., 2490., 1396., ..., 2501., 2193.,  668.],\n",
      "        [2069., 1809., 1927., ..., 2002., 2478., 1417.],\n",
      "        [2482., 2300., 2144., ..., 2653., 2193., 1819.]],\n",
      "\n",
      "       [[ 769.,  617.,  635., ..., 1286.,  780.,  691.],\n",
      "        [ 665.,  672.,  690., ...,  550.,  744.,  770.],\n",
      "        [ 913.,  792.,  698., ...,  637.,  726.,  650.],\n",
      "        ...,\n",
      "        [1886., 2433., 1631., ..., 2706., 2342.,  705.],\n",
      "        [2226., 1918., 2107., ..., 2313., 2541., 1439.],\n",
      "        [2514., 2323., 2152., ..., 2853., 2430., 2139.]]], dtype=float32)\n",
      "Coordinates:\n",
      "  * time         (time) datetime64[ns] 2022-01-03T08:41:48 ... 2022-01-23T08:...\n",
      "  * y            (y) float64 3.389e+06 3.389e+06 ... 3.361e+06 3.361e+06\n",
      "  * x            (x) float64 3.631e+05 3.631e+05 ... 3.874e+05 3.874e+05\n",
      "    spatial_ref  int32 32636\n",
      "Attributes:\n",
      "    units:         1\n",
      "    nodata:        0\n",
      "    crs:           epsg:32636\n",
      "    grid_mapping:  spatial_ref\n"
     ]
    }
   ],
   "source": [
    "print(ds.red)"
   ]
  }
 ],
 "metadata": {
  "kernelspec": {
   "display_name": "Python 3 (ipykernel)",
   "language": "python",
   "name": "python3"
  },
  "language_info": {
   "codemirror_mode": {
    "name": "ipython",
    "version": 3
   },
   "file_extension": ".py",
   "mimetype": "text/x-python",
   "name": "python",
   "nbconvert_exporter": "python",
   "pygments_lexer": "ipython3",
   "version": "3.8.10"
  }
 },
 "nbformat": 4,
 "nbformat_minor": 5
}
