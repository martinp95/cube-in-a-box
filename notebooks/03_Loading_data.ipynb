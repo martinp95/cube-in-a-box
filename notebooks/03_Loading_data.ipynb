{
 "cells": [
  {
   "cell_type": "code",
   "execution_count": 1,
   "id": "737f24a8",
   "metadata": {},
   "outputs": [],
   "source": [
    "import datacube\n",
    "import sys\n",
    "sys.path.insert(1, '../utils/')\n",
    "from odc.ui import with_ui_cbk\n",
    "from utils.deafrica_datahandling import load_ard, mostcommon_crs"
   ]
  },
  {
   "cell_type": "code",
   "execution_count": 2,
   "id": "4d111620",
   "metadata": {},
   "outputs": [],
   "source": [
    "dc = datacube.Datacube(app='Sentinel_2')"
   ]
  },
  {
   "cell_type": "code",
   "execution_count": 3,
   "id": "8bdda40e",
   "metadata": {},
   "outputs": [
    {
     "name": "stdout",
     "output_type": "stream",
     "text": [
      "epsg:32630\n"
     ]
    },
    {
     "data": {
      "application/vnd.jupyter.widget-view+json": {
       "model_id": "e5d399bfe30844bf93d1e8efe526c569",
       "version_major": 2,
       "version_minor": 0
      },
      "text/plain": [
       "VBox(children=(HBox(children=(Label(value=''), Label(value='')), layout=Layout(justify_content='space-between'…"
      ]
     },
     "metadata": {},
     "output_type": "display_data"
    },
    {
     "name": "stdout",
     "output_type": "stream",
     "text": [
      "Using pixel quality parameters for Sentinel 2\n",
      "Finding datasets\n",
      "    s2_l2a\n",
      "Counting good quality pixels for each time step\n",
      "Filtering to 6 out of 13 time steps with at least 90.0% good quality pixels\n",
      "Applying pixel quality/cloud mask\n",
      "Loading 6 time steps\n"
     ]
    }
   ],
   "source": [
    "lat, lon = 42.86, -2.6\n",
    "buffer = 0.125\n",
    "\n",
    "# Create a reusable query\n",
    "query = {\n",
    "    'x': (lon-buffer, lon+buffer),\n",
    "    'y': (lat+buffer, lat-buffer),\n",
    "    'time': ('2022-01-01', '2022-01-31'),\n",
    "    'resolution': (-20, 20)\n",
    "}\n",
    "\n",
    "# Identify the most common projection system in the input query\n",
    "output_crs = mostcommon_crs(dc=dc, product='s2_l2a', query=query)\n",
    "print(output_crs)\n",
    "\n",
    "# Load available data from Sentinel-2 and filter to retain only times\n",
    "# with at least 90% good data\n",
    "ds = load_ard(dc=dc, \n",
    "              products=['s2_l2a'],\n",
    "              min_gooddata=0.9, \n",
    "              measurements=['red', 'green', 'blue', 'swir_1', 'swir_2', 'nir', 'nir_2'],\n",
    "              output_crs=output_crs,\n",
    "              progress_cbk=with_ui_cbk(),\n",
    "              **query)"
   ]
  },
  {
   "cell_type": "code",
   "execution_count": 4,
   "id": "cc1567eb",
   "metadata": {
    "scrolled": true
   },
   "outputs": [
    {
     "name": "stdout",
     "output_type": "stream",
     "text": [
      "<xarray.Dataset>\n",
      "Dimensions:      (time: 6, y: 1394, x: 1028)\n",
      "Coordinates:\n",
      "  * time         (time) datetime64[ns] 2022-01-01T11:19:11 ... 2022-01-26T11:...\n",
      "  * y            (y) float64 4.759e+06 4.759e+06 ... 4.731e+06 4.731e+06\n",
      "  * x            (x) float64 5.224e+05 5.224e+05 5.225e+05 ... 5.43e+05 5.43e+05\n",
      "    spatial_ref  int32 32630\n",
      "Data variables:\n",
      "    red          (time, y, x) float32 534.0 344.0 439.0 571.0 ... nan nan nan\n",
      "    green        (time, y, x) float32 495.0 392.0 413.0 589.0 ... nan nan nan\n",
      "    blue         (time, y, x) float32 307.0 217.0 250.0 324.0 ... nan nan nan\n",
      "    swir_1       (time, y, x) float32 2.049e+03 1.768e+03 1.838e+03 ... nan nan\n",
      "    swir_2       (time, y, x) float32 1.316e+03 1.028e+03 1.04e+03 ... nan nan\n",
      "    nir          (time, y, x) float32 2.048e+03 2.168e+03 1.91e+03 ... nan nan\n",
      "    nir_2        (time, y, x) float32 2.106e+03 2.32e+03 2.02e+03 ... nan nan\n",
      "Attributes:\n",
      "    crs:           epsg:32630\n",
      "    grid_mapping:  spatial_ref\n"
     ]
    }
   ],
   "source": [
    "print(ds)"
   ]
  },
  {
   "cell_type": "code",
   "execution_count": 5,
   "id": "0e3b7efe",
   "metadata": {},
   "outputs": [
    {
     "name": "stdout",
     "output_type": "stream",
     "text": [
      "<xarray.DataArray 'red' (time: 6, y: 1394, x: 1028)>\n",
      "array([[[ 534.,  344.,  439., ..., 1654., 1836., 1009.],\n",
      "        [ 692.,  437.,  515., ..., 1082., 1311., 1325.],\n",
      "        [ 771.,  706.,  632., ...,  853., 1041., 1118.],\n",
      "        ...,\n",
      "        [ 974., 1139., 1277., ...,   nan,   nan,   nan],\n",
      "        [ 650., 1003., 1188., ...,   nan,   nan,   nan],\n",
      "        [ 724.,  781.,  976., ...,   nan,   nan,   nan]],\n",
      "\n",
      "       [[ 558.,  301.,  401., ..., 1427., 1781., 1028.],\n",
      "        [ 644.,  452.,  511., ...,  972., 1119., 1315.],\n",
      "        [ 756.,  639.,  595., ...,  700.,  931.,  977.],\n",
      "        ...,\n",
      "        [ 930., 1209., 1276., ...,   nan,   nan,   nan],\n",
      "        [ 686.,  965., 1234., ...,   nan,   nan,   nan],\n",
      "        [ 723.,  779.,  938., ...,   nan,   nan,   nan]],\n",
      "\n",
      "       [[ 531.,  314.,  401., ..., 1477., 1817., 1035.],\n",
      "        [ 777.,  418.,  496., ...,  996., 1156., 1305.],\n",
      "        [ 735.,  681.,  618., ...,  747.,  958., 1018.],\n",
      "        ...,\n",
      "...\n",
      "        ...,\n",
      "        [ 782.,  950., 1002., ...,  802.,  851.,  835.],\n",
      "        [ 581.,  828., 1025., ...,  865.,  852.,  827.],\n",
      "        [ 557.,  622.,  747., ..., 1053.,  882.,  793.]],\n",
      "\n",
      "       [[ 616.,  373.,  490., ..., 1674., 1877., 1136.],\n",
      "        [ 837.,  518.,  579., ..., 1137., 1334., 1383.],\n",
      "        [ 862.,  764.,  680., ...,  826., 1087., 1144.],\n",
      "        ...,\n",
      "        [ 767.,  891.,  964., ...,  817.,  854.,  812.],\n",
      "        [ 588.,  812.,  942., ...,  877.,  850.,  811.],\n",
      "        [ 560.,  641.,  760., ..., 1038.,  882.,  792.]],\n",
      "\n",
      "       [[1555., 1341., 1434., ..., 2472., 2739., 2023.],\n",
      "        [1765., 1475., 1545., ..., 2015., 2187., 2314.],\n",
      "        [1816., 1702., 1655., ..., 1799., 1981., 2023.],\n",
      "        ...,\n",
      "        [1913., 2096., 2232., ...,   nan,   nan,   nan],\n",
      "        [1668., 1937., 2209., ...,   nan,   nan,   nan],\n",
      "        [1606., 1722., 1934., ...,   nan,   nan,   nan]]], dtype=float32)\n",
      "Coordinates:\n",
      "  * time         (time) datetime64[ns] 2022-01-01T11:19:11 ... 2022-01-26T11:...\n",
      "  * y            (y) float64 4.759e+06 4.759e+06 ... 4.731e+06 4.731e+06\n",
      "  * x            (x) float64 5.224e+05 5.224e+05 5.225e+05 ... 5.43e+05 5.43e+05\n",
      "    spatial_ref  int32 32630\n",
      "Attributes:\n",
      "    units:         1\n",
      "    nodata:        0\n",
      "    crs:           epsg:32630\n",
      "    grid_mapping:  spatial_ref\n"
     ]
    }
   ],
   "source": [
    "print(ds.red)"
   ]
  }
 ],
 "metadata": {
  "kernelspec": {
   "display_name": "Python 3 (ipykernel)",
   "language": "python",
   "name": "python3"
  },
  "language_info": {
   "codemirror_mode": {
    "name": "ipython",
    "version": 3
   },
   "file_extension": ".py",
   "mimetype": "text/x-python",
   "name": "python",
   "nbconvert_exporter": "python",
   "pygments_lexer": "ipython3",
   "version": "3.8.10"
  }
 },
 "nbformat": 4,
 "nbformat_minor": 5
}
