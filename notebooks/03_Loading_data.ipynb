{
 "cells": [
  {
   "cell_type": "code",
   "execution_count": 1,
   "id": "737f24a8",
   "metadata": {},
   "outputs": [],
   "source": [
    "import datacube\n",
    "from odc.ui import with_ui_cbk"
   ]
  },
  {
   "cell_type": "code",
   "execution_count": 2,
   "id": "4d111620",
   "metadata": {},
   "outputs": [],
   "source": [
    "dc = datacube.Datacube(app='Sentinel_2')"
   ]
  },
  {
   "cell_type": "code",
   "execution_count": 3,
   "id": "8bdda40e",
   "metadata": {},
   "outputs": [
    {
     "data": {
      "application/vnd.jupyter.widget-view+json": {
       "model_id": "725e700a3fd544dab59bb10c8025ce15",
       "version_major": 2,
       "version_minor": 0
      },
      "text/plain": [
       "VBox(children=(HBox(children=(Label(value=''), Label(value='')), layout=Layout(justify_content='space-between'…"
      ]
     },
     "metadata": {},
     "output_type": "display_data"
    },
    {
     "name": "stdout",
     "output_type": "stream",
     "text": [
      "<xarray.Dataset>\n",
      "Dimensions:      (latitude: 1, longitude: 1, time: 52)\n",
      "Coordinates:\n",
      "  * time         (time) datetime64[ns] 2022-01-01T11:19:05 ... 2022-01-31T11:...\n",
      "  * latitude     (latitude) float64 30.0\n",
      "  * longitude    (longitude) float64 -30.0\n",
      "    spatial_ref  int32 4258\n",
      "Data variables:\n",
      "    blue         (time, latitude, longitude) uint16 0 0 0 0 0 0 ... 0 0 0 0 0 0\n",
      "    green        (time, latitude, longitude) uint16 0 0 0 0 0 0 ... 0 0 0 0 0 0\n",
      "    red          (time, latitude, longitude) uint16 0 0 0 0 0 0 ... 0 0 0 0 0 0\n",
      "Attributes:\n",
      "    crs:           EPSG:4258\n",
      "    grid_mapping:  spatial_ref\n"
     ]
    }
   ],
   "source": [
    "ds = dc.load(product=\"s2_l2a\",\n",
    "            measurements=['blue','green','red'],\n",
    "            x=(-5.5, -5),\n",
    "            y=(43, 43.5),\n",
    "            time=(\"2022-01-01\", \"2022-01-31\"),\n",
    "            resolution=(-60, 60),\n",
    "            output_crs='EPSG:4258',\n",
    "            progress_cbk=with_ui_cbk())\n",
    "\n",
    "print(ds)"
   ]
  },
  {
   "cell_type": "code",
   "execution_count": 4,
   "id": "0e3b7efe",
   "metadata": {},
   "outputs": [
    {
     "name": "stdout",
     "output_type": "stream",
     "text": [
      "<xarray.DataArray 'red' (time: 52, latitude: 1, longitude: 1)>\n",
      "array([[[0]],\n",
      "\n",
      "       [[0]],\n",
      "\n",
      "       [[0]],\n",
      "\n",
      "       [[0]],\n",
      "\n",
      "       [[0]],\n",
      "\n",
      "       [[0]],\n",
      "\n",
      "       [[0]],\n",
      "\n",
      "       [[0]],\n",
      "\n",
      "       [[0]],\n",
      "\n",
      "       [[0]],\n",
      "\n",
      "...\n",
      "\n",
      "       [[0]],\n",
      "\n",
      "       [[0]],\n",
      "\n",
      "       [[0]],\n",
      "\n",
      "       [[0]],\n",
      "\n",
      "       [[0]],\n",
      "\n",
      "       [[0]],\n",
      "\n",
      "       [[0]],\n",
      "\n",
      "       [[0]],\n",
      "\n",
      "       [[0]],\n",
      "\n",
      "       [[0]]], dtype=uint16)\n",
      "Coordinates:\n",
      "  * time         (time) datetime64[ns] 2022-01-01T11:19:05 ... 2022-01-31T11:...\n",
      "  * latitude     (latitude) float64 30.0\n",
      "  * longitude    (longitude) float64 -30.0\n",
      "    spatial_ref  int32 4258\n",
      "Attributes:\n",
      "    units:         1\n",
      "    nodata:        0\n",
      "    crs:           EPSG:4258\n",
      "    grid_mapping:  spatial_ref\n"
     ]
    }
   ],
   "source": [
    "print(ds.red)"
   ]
  }
 ],
 "metadata": {
  "kernelspec": {
   "display_name": "Python 3 (ipykernel)",
   "language": "python",
   "name": "python3"
  },
  "language_info": {
   "codemirror_mode": {
    "name": "ipython",
    "version": 3
   },
   "file_extension": ".py",
   "mimetype": "text/x-python",
   "name": "python",
   "nbconvert_exporter": "python",
   "pygments_lexer": "ipython3",
   "version": "3.8.10"
  }
 },
 "nbformat": 4,
 "nbformat_minor": 5
}
